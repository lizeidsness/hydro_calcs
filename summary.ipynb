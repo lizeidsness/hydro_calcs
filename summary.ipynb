{
 "cells": [
  {
   "cell_type": "code",
   "execution_count": 28,
   "metadata": {},
   "outputs": [],
   "source": [
    "import pandas"
   ]
  },
  {
   "cell_type": "code",
   "execution_count": 30,
   "metadata": {},
   "outputs": [
    {
     "data": {
      "text/html": [
       "<div>\n",
       "<style scoped>\n",
       "    .dataframe tbody tr th:only-of-type {\n",
       "        vertical-align: middle;\n",
       "    }\n",
       "\n",
       "    .dataframe tbody tr th {\n",
       "        vertical-align: top;\n",
       "    }\n",
       "\n",
       "    .dataframe thead th {\n",
       "        text-align: right;\n",
       "    }\n",
       "</style>\n",
       "<table border=\"1\" class=\"dataframe\">\n",
       "  <thead>\n",
       "    <tr style=\"text-align: right;\">\n",
       "      <th></th>\n",
       "      <th>Time</th>\n",
       "      <th>Consumption (kWh)</th>\n",
       "    </tr>\n",
       "  </thead>\n",
       "  <tbody>\n",
       "    <tr>\n",
       "      <th>0</th>\n",
       "      <td>2022-02-01 00:00:00</td>\n",
       "      <td>0.73</td>\n",
       "    </tr>\n",
       "    <tr>\n",
       "      <th>1</th>\n",
       "      <td>2022-02-01 01:00:00</td>\n",
       "      <td>0.67</td>\n",
       "    </tr>\n",
       "  </tbody>\n",
       "</table>\n",
       "</div>"
      ],
      "text/plain": [
       "                 Time  Consumption (kWh)\n",
       "0 2022-02-01 00:00:00               0.73\n",
       "1 2022-02-01 01:00:00               0.67"
      ]
     },
     "execution_count": 30,
     "metadata": {},
     "output_type": "execute_result"
    }
   ],
   "source": [
    "df = pandas.read_excel(\"feb2022-jan2023-hourly.xls\", header=3)\n",
    "df.drop([\"Date\", \"Rate Type\", \"Cost ($)\"], axis=1, inplace=True)\n",
    "df.head(2)"
   ]
  },
  {
   "cell_type": "code",
   "execution_count": 31,
   "metadata": {},
   "outputs": [],
   "source": [
    "df[\"Month\"] = pandas.to_datetime(df['Time']).dt.strftime('%b-%Y')\n",
    "out = df.groupby(by=\"Month\").agg({\"Consumption (kWh)\" : ['sum', 'max']})\n",
    "out.columns = out.columns.to_flat_index()\n",
    "out.columns = [\"Total kWh\",\"Max Demand kWh\"]\n"
   ]
  },
  {
   "cell_type": "code",
   "execution_count": 32,
   "metadata": {},
   "outputs": [
    {
     "name": "stdout",
     "output_type": "stream",
     "text": [
      "    Total kWh  Max Demand kWh                Time  Consumption (kWh)     Month\n",
      "3      704.57            5.01 2022-02-06 17:00:00               5.01  Feb-2022\n",
      "9      760.94            3.64 2022-03-05 13:00:00               3.64  Mar-2022\n",
      "0      699.21            3.88 2022-04-01 17:00:00               3.88  Apr-2022\n",
      "10     526.67            4.08 2022-05-13 21:00:00               4.08  May-2022\n",
      "8      706.47            4.69 2022-06-24 17:00:00               4.69  Jun-2022\n",
      "5      421.92            3.13 2022-07-17 18:00:00               3.13  Jul-2022\n",
      "6      421.92            3.13 2022-07-19 18:00:00               3.13  Jul-2022\n",
      "1      884.89            5.19 2022-08-14 17:00:00               5.19  Aug-2022\n",
      "13     755.29            4.89 2022-09-11 17:00:00               4.89  Sep-2022\n",
      "7      421.92            3.13 2022-10-17 21:00:00               3.13  Oct-2022\n",
      "12     800.47            5.63 2022-10-30 16:00:00               5.63  Oct-2022\n",
      "11     812.19            4.02 2022-11-27 20:00:00               4.02  Nov-2022\n",
      "2      869.28            4.42 2022-12-30 17:00:00               4.42  Dec-2022\n",
      "4      826.37            3.75 2023-01-27 08:00:00               3.75  Jan-2023\n"
     ]
    }
   ],
   "source": [
    "when = out.merge(df, how='left', left_on='Max Demand kWh', right_on=\"Consumption (kWh)\").sort_values(\"Time\")\n",
    "print(when)\n",
    "when.to_csv('when.csv')"
   ]
  }
 ],
 "metadata": {
  "kernelspec": {
   "display_name": "Python 3.9.12 ('eesd')",
   "language": "python",
   "name": "python3"
  },
  "language_info": {
   "codemirror_mode": {
    "name": "ipython",
    "version": 3
   },
   "file_extension": ".py",
   "mimetype": "text/x-python",
   "name": "python",
   "nbconvert_exporter": "python",
   "pygments_lexer": "ipython3",
   "version": "3.9.12"
  },
  "orig_nbformat": 4,
  "vscode": {
   "interpreter": {
    "hash": "bff65c5872e84f20a07b8a57dcc12105db5d633b255e92aadea6c7e926c4e96a"
   }
  }
 },
 "nbformat": 4,
 "nbformat_minor": 2
}
