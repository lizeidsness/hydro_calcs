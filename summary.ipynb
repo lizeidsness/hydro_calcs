{
 "cells": [
  {
   "cell_type": "code",
   "execution_count": 1,
   "metadata": {},
   "outputs": [],
   "source": [
    "import pandas"
   ]
  },
  {
   "attachments": {},
   "cell_type": "markdown",
   "metadata": {},
   "source": [
    "Set data.  Default is a sample-hourly.xls\n",
    "To analyze your own data - first download your data aian hourly format from the Hydro Ottawa billing/usage area in Excel format.  Then upload it on the left (up arrow button).  Change the name to match your file."
   ]
  },
  {
   "cell_type": "code",
   "execution_count": 2,
   "metadata": {},
   "outputs": [
    {
     "data": {
      "text/html": [
       "<div>\n",
       "<style scoped>\n",
       "    .dataframe tbody tr th:only-of-type {\n",
       "        vertical-align: middle;\n",
       "    }\n",
       "\n",
       "    .dataframe tbody tr th {\n",
       "        vertical-align: top;\n",
       "    }\n",
       "\n",
       "    .dataframe thead th {\n",
       "        text-align: right;\n",
       "    }\n",
       "</style>\n",
       "<table border=\"1\" class=\"dataframe\">\n",
       "  <thead>\n",
       "    <tr style=\"text-align: right;\">\n",
       "      <th></th>\n",
       "      <th>Time</th>\n",
       "      <th>Consumption (kWh)</th>\n",
       "    </tr>\n",
       "  </thead>\n",
       "  <tbody>\n",
       "    <tr>\n",
       "      <th>0</th>\n",
       "      <td>2023-03-01 00:00:00</td>\n",
       "      <td>0.71</td>\n",
       "    </tr>\n",
       "    <tr>\n",
       "      <th>1</th>\n",
       "      <td>2023-03-01 01:00:00</td>\n",
       "      <td>0.74</td>\n",
       "    </tr>\n",
       "  </tbody>\n",
       "</table>\n",
       "</div>"
      ],
      "text/plain": [
       "                 Time  Consumption (kWh)\n",
       "0 2023-03-01 00:00:00               0.71\n",
       "1 2023-03-01 01:00:00               0.74"
      ]
     },
     "execution_count": 2,
     "metadata": {},
     "output_type": "execute_result"
    }
   ],
   "source": [
    "df = pandas.read_excel(\"sample-hourly.xls\", header=3) # change this to match your filename\n",
    "df.drop([\"Date\", \"Rate Type\", \"Cost ($)\"], axis=1, inplace=True) # we are dropping some columns for simplicity for report\n",
    "df.head(2) #check data"
   ]
  },
  {
   "cell_type": "code",
   "execution_count": 3,
   "metadata": {},
   "outputs": [],
   "source": [
    "df[\"Month\"] = pandas.to_datetime(df['Time']).dt.strftime('%b-%Y')\n",
    "out = df.groupby(by=\"Month\").agg({\"Consumption (kWh)\" : ['sum', 'max']})\n",
    "out.columns = out.columns.to_flat_index()\n",
    "out.columns = [\"Total kWh\",\"Max Demand kWh\"]\n"
   ]
  },
  {
   "cell_type": "code",
   "execution_count": 4,
   "metadata": {},
   "outputs": [
    {
     "name": "stdout",
     "output_type": "stream",
     "text": [
      "   Total kWh  Max Demand kWh                Time  Consumption (kWh)     Month\n",
      "1     787.77            7.92 2023-03-29 18:00:00               7.92  Mar-2023\n",
      "0     146.10            7.54 2023-04-01 14:00:00               7.54  Apr-2023\n"
     ]
    }
   ],
   "source": [
    "when = out.merge(df, how='left', left_on='Max Demand kWh', right_on=\"Consumption (kWh)\").sort_values(\"Time\")\n",
    "print(when)\n",
    "when.to_csv('when.csv')"
   ]
  }
 ],
 "metadata": {
  "kernelspec": {
   "display_name": "Python 3.9.12 ('eesd')",
   "language": "python",
   "name": "python3"
  },
  "language_info": {
   "codemirror_mode": {
    "name": "ipython",
    "version": 3
   },
   "file_extension": ".py",
   "mimetype": "text/x-python",
   "name": "python",
   "nbconvert_exporter": "python",
   "pygments_lexer": "ipython3",
   "version": "3.9.12"
  },
  "orig_nbformat": 4,
  "vscode": {
   "interpreter": {
    "hash": "bff65c5872e84f20a07b8a57dcc12105db5d633b255e92aadea6c7e926c4e96a"
   }
  }
 },
 "nbformat": 4,
 "nbformat_minor": 2
}
