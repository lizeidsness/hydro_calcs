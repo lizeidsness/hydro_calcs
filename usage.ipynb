{
 "cells": [
  {
   "cell_type": "code",
   "execution_count": 57,
   "metadata": {},
   "outputs": [],
   "source": [
    "import pandas\n",
    "import matplotlib.pyplot as plt\n"
   ]
  },
  {
   "cell_type": "code",
   "execution_count": 58,
   "metadata": {},
   "outputs": [],
   "source": [
    "rate_off = 0.074000\n",
    "rate_mid = 0.102000\n",
    "rate_high = 0.151000"
   ]
  },
  {
   "cell_type": "code",
   "execution_count": 59,
   "metadata": {},
   "outputs": [
    {
     "data": {
      "text/html": [
       "<div>\n",
       "<style scoped>\n",
       "    .dataframe tbody tr th:only-of-type {\n",
       "        vertical-align: middle;\n",
       "    }\n",
       "\n",
       "    .dataframe tbody tr th {\n",
       "        vertical-align: top;\n",
       "    }\n",
       "\n",
       "    .dataframe thead th {\n",
       "        text-align: right;\n",
       "    }\n",
       "</style>\n",
       "<table border=\"1\" class=\"dataframe\">\n",
       "  <thead>\n",
       "    <tr style=\"text-align: right;\">\n",
       "      <th></th>\n",
       "      <th>Date</th>\n",
       "      <th>Time</th>\n",
       "      <th>Rate Type</th>\n",
       "      <th>Consumption (kWh)</th>\n",
       "      <th>Cost ($)</th>\n",
       "    </tr>\n",
       "  </thead>\n",
       "  <tbody>\n",
       "    <tr>\n",
       "      <th>0</th>\n",
       "      <td>2023-03-01</td>\n",
       "      <td>2023-03-01 00:00:00</td>\n",
       "      <td>Off-Peak</td>\n",
       "      <td>0.71</td>\n",
       "      <td>0.05</td>\n",
       "    </tr>\n",
       "    <tr>\n",
       "      <th>1</th>\n",
       "      <td>2023-03-01</td>\n",
       "      <td>2023-03-01 01:00:00</td>\n",
       "      <td>Off-Peak</td>\n",
       "      <td>0.74</td>\n",
       "      <td>0.05</td>\n",
       "    </tr>\n",
       "  </tbody>\n",
       "</table>\n",
       "</div>"
      ],
      "text/plain": [
       "        Date                Time Rate Type  Consumption (kWh)  Cost ($)\n",
       "0 2023-03-01 2023-03-01 00:00:00  Off-Peak               0.71      0.05\n",
       "1 2023-03-01 2023-03-01 01:00:00  Off-Peak               0.74      0.05"
      ]
     },
     "execution_count": 59,
     "metadata": {},
     "output_type": "execute_result"
    }
   ],
   "source": [
    "df = pandas.read_excel(\"sample-hourly.xls\", header=3) # skips first 3 lines\n",
    "#check output\n",
    "df.head(2)"
   ]
  },
  {
   "cell_type": "code",
   "execution_count": 60,
   "metadata": {},
   "outputs": [
    {
     "name": "stdout",
     "output_type": "stream",
     "text": [
      "          Date                Time Rate Type  Consumption (kWh)  Cost ($)\n",
      "756 2023-04-01 2023-04-01 13:00:00  Off-Peak               5.97      0.44\n",
      "757 2023-04-01 2023-04-01 14:00:00  Off-Peak               7.54      0.56\n",
      "758 2023-04-01 2023-04-01 15:00:00  Off-Peak               7.46      0.55\n",
      "759 2023-04-01 2023-04-01 16:00:00  Off-Peak               7.40      0.55\n",
      "760 2023-04-01 2023-04-01 17:00:00  Off-Peak               5.31      0.39\n",
      "761 2023-04-01 2023-04-01 18:00:00  Off-Peak               3.16      0.23\n",
      "=== Summary ===\n",
      "Sum cost: $2.72\n",
      "Sum consumption: 36.84kWh\n",
      "at High Peak: $5.56\n",
      "at Mid Peak: $3.76\n",
      "at Off Peak: $2.73\n"
     ]
    }
   ],
   "source": [
    "# set range for time\n",
    "cond = (df[\"Time\"]>=\"2023-04-01 13:00:00\") & (df[\"Time\"] < \"2023-04-01 19:00:00\")\n",
    "df_out =df[cond]\n",
    "print(df_out)\n",
    "print(\"=== Summary ===\")\n",
    "total = df_out[\"Cost ($)\"].sum()\n",
    "consumption = df_out[\"Consumption (kWh)\"].sum()\n",
    "print (f\"Sum cost: ${total}\\nSum consumption: {consumption}kWh\")\n",
    "print(f\"at High Peak: ${(rate_high*consumption).round(2)}\")\n",
    "print(f\"at Mid Peak: ${(rate_mid*consumption).round(2)}\")\n",
    "print(f\"at Off Peak: ${(rate_off*consumption).round(2)}\")"
   ]
  },
  {
   "cell_type": "code",
   "execution_count": null,
   "metadata": {},
   "outputs": [],
   "source": []
  }
 ],
 "metadata": {
  "kernelspec": {
   "display_name": "eesd",
   "language": "python",
   "name": "python3"
  },
  "language_info": {
   "codemirror_mode": {
    "name": "ipython",
    "version": 3
   },
   "file_extension": ".py",
   "mimetype": "text/x-python",
   "name": "python",
   "nbconvert_exporter": "python",
   "pygments_lexer": "ipython3",
   "version": "3.9.12"
  },
  "orig_nbformat": 4
 },
 "nbformat": 4,
 "nbformat_minor": 2
}
